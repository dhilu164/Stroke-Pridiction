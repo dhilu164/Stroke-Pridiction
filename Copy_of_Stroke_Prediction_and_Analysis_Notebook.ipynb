{
  "cells": [
    {
      "cell_type": "markdown",
      "metadata": {
        "id": "Vpssv51xTVSl"
      },
      "source": [
        "# Stroke Prediction and Anaysis Using Machine Learning"
      ]
    },
    {
      "cell_type": "markdown",
      "metadata": {
        "id": "gv7ozj3mTVSr"
      },
      "source": [
        "## Introduction\n",
        "\n",
        "In this notebook, we will describe step-by-step procedure for building a machine learning (ML) model for stroke prediction and analysing which features are most useful for the prediction. The packages used in this notebook are as follows:\n",
        "- Python (v3.7)\n",
        "- Pandas (v1.0.3)\n",
        "- Numpy (v1.18.1)\n",
        "- Matplotlib (v3.2.1)\n",
        "- Scikit-Learn (v0.22.1)\n",
        "- Imbalanced-Learn (v0.6.2)\n",
        "- LightGBM (v2.3.1)\n",
        "- XGBoost (v1.0.2)"
      ]
    },
    {
      "cell_type": "markdown",
      "metadata": {
        "id": "_buKV440TVSs"
      },
      "source": [
        "## Data Exploration and Visualisation\n",
        "\n",
        "We will use the [Kaggle stroke dataset](https://www.kaggle.com/asaumya/healthcare-dataset-stroke-data) (train_2v.csv) comprising 12 columns (variables) as listed in the following table.\n",
        "\n",
        "| No  | Variable          | Definition                                           |        \n",
        "| --- | ---               | ---                                                  |\n",
        "| 1   | id                | Patient ID                                           |\n",
        "| 2   | gender            | Gender of patient                                    |\n",
        "| 3   | age               | Age of patient                                       |\n",
        "| 4   | hypertension      | 0: no hypertension, 1: suffering from hypertension   |\n",
        "| 5   | heart_disease     | 0: no heart disease, 1: suffering from heart disease |\n",
        "| 6   | ever_married      | Yes/No                                               |\n",
        "| 7   | work_type         | Type of occupation                                   |\n",
        "| 8   | Residence_type    | Area type of residence (urban/rural)                 |\n",
        "| 9   | avg_glucose_level | Average glucose level (measured after meal)          |\n",
        "| 10  | bmi               | Body mass index                                      |\n",
        "| 11  | smoking_status    | Patient's smoking status                             |\n",
        "| 12  | stroke            | 0: no stroke, 1: suffered stroke                     |"
      ]
    },
    {
      "cell_type": "markdown",
      "metadata": {
        "id": "n8VZVNJyTVSt"
      },
      "source": [
        "### Importing all the relevant packages"
      ]
    },
    {
      "cell_type": "code",
      "execution_count": null,
      "metadata": {
        "id": "wBtyt1MGTVSt"
      },
      "outputs": [],
      "source": [
        "import pandas as pd\n",
        "import numpy as np\n",
        "import matplotlib.pyplot as plt\n",
        "from sklearn.preprocessing import LabelEncoder, StandardScaler\n",
        "from imblearn.over_sampling import ADASYN\n",
        "from sklearn.model_selection import train_test_split\n",
        "from sklearn.svm import SVC\n",
        "from sklearn.naive_bayes import GaussianNB\n",
        "from sklearn.linear_model import LogisticRegression\n",
        "from sklearn.tree import DecisionTreeClassifier\n",
        "from sklearn.ensemble import RandomForestClassifier\n",
        "from lightgbm import LGBMClassifier\n",
        "from xgboost import XGBClassifier\n",
        "from sklearn.metrics import classification_report,accuracy_score,confusion_matrix\n",
        "from sklearn.metrics import auc,roc_auc_score,roc_curve,precision_score,recall_score,f1_score\n",
        "import time as timer\n",
        "from sklearn.inspection import permutation_importance"
      ]
    },
    {
      "cell_type": "markdown",
      "metadata": {
        "id": "0IYxQgnGTVSv"
      },
      "source": [
        "### Opening the dataset\n",
        "It is important to understand the dataset before going deeper into the subsequent process. Here, we will explore the information about the dataset, such as number of samples, presence of missing values, class imbalance, etc."
      ]
    },
    {
      "cell_type": "code",
      "execution_count": null,
      "metadata": {
        "id": "d3Xw6w4eTVSv"
      },
      "outputs": [],
      "source": [
        "# import package\n",
        "# open dataset\n",
        "filename = \"train_strokes.csv\"\n",
        "data = pd.read_csv(filename)\n",
        "with pd.option_context('expand_frame_repr', False):\n",
        "    print(data.head())\n",
        "print(\"Data shape: {}\".format(data.shape))"
      ]
    },
    {
      "cell_type": "code",
      "execution_count": null,
      "metadata": {
        "id": "O0WtXPGjTVSw"
      },
      "outputs": [],
      "source": [
        "data.describe()"
      ]
    },
    {
      "cell_type": "markdown",
      "metadata": {
        "id": "r0wENwBfTVSx"
      },
      "source": [
        "As shown above, the number of rows (samples) is 43400 and number of columns (variables) is 12. There are some missing values (indicated by NaN). Now, we want to check how many missing values exist in each variable."
      ]
    },
    {
      "cell_type": "code",
      "execution_count": null,
      "metadata": {
        "id": "9fpnX9emTVSx"
      },
      "outputs": [],
      "source": [
        "miss_val = data.isnull().sum()/len(data)*100\n",
        "print(miss_val)\n",
        "print(\"# Missing values in variable bmi\\t\\t: {:.2f}%\".format(miss_val['bmi']))\n",
        "print(\"# Missing values in variable smoking_status\\t: {:.2f}%\".format(miss_val['smoking_status']))\n",
        "print(\"Data shape: {}\".format(data.shape))"
      ]
    },
    {
      "cell_type": "markdown",
      "metadata": {
        "id": "-NhDNn-3TVSx"
      },
      "source": [
        "There are two variables that contain missing values. First, 'bmi' that accounts for 3.37% of overal samples; second, 'smoking_status' that accounts for 30.63% of overall samples. To handle these missing values, we will remove the samples from all the variables associated with the indices of missing values in 'smoking_status'. For missing values in 'bmi' variable, we will replace them with the average of 'bmi' values."
      ]
    },
    {
      "cell_type": "markdown",
      "metadata": {
        "id": "bfi0Bt5TTVSy"
      },
      "source": [
        "### Handling Missing Values"
      ]
    },
    {
      "cell_type": "code",
      "execution_count": null,
      "metadata": {
        "id": "gtSFXnhsTVSy"
      },
      "outputs": [],
      "source": [
        "# Safely disable new warning with the chained assignment.\n",
        "pd.options.mode.chained_assignment = None  # default='warn'\n",
        "# replace missing values in variable 'bmi' with its mean\n",
        "data['bmi']=data['bmi'].fillna(data['bmi'].mean())\n",
        "# remove (drop) data associated with missing values in variable 'smoking_status'\n",
        "clean_data = data[data['smoking_status'].notnull()]\n",
        "# drop variable 'id'\n",
        "clean_data.drop(columns='id',axis=1,inplace=True)\n",
        "# validate there's no more missing values\n",
        "miss_val = clean_data.isnull().sum()/len(clean_data)*100\n",
        "print(miss_val)\n",
        "print(\"# Missing values in variable 'bmi'\\t\\t: {}\".format(miss_val['bmi']))\n",
        "print(\"# Missing values in variable 'smoking_status'\\t: {}\".format(miss_val['smoking_status']))\n",
        "print(\"Shape of data without missing values: {}\".format(clean_data.shape))"
      ]
    },
    {
      "cell_type": "markdown",
      "metadata": {
        "id": "cO7SN7quTVSy"
      },
      "source": [
        "### Changing Category to Numerical Values\n",
        "\n",
        "Since some variables are categorical, we have to convert them into numerical variables."
      ]
    },
    {
      "cell_type": "code",
      "execution_count": null,
      "metadata": {
        "id": "uMID8rEZTVSz"
      },
      "outputs": [],
      "source": [
        "print(\"Unique 'gender': {}\".format(clean_data['gender'].unique()))\n",
        "print(\"Unique 'ever_married': {}\".format(clean_data['ever_married'].unique()))\n",
        "print(\"Unique 'work_type': {}\".format(clean_data['work_type'].unique()))\n",
        "print(\"Unique 'Residence_type': {}\".format(clean_data['Residence_type'].unique()))\n",
        "print(\"Unique 'smoking_status': {}\".format(clean_data['smoking_status'].unique()))"
      ]
    },
    {
      "cell_type": "code",
      "execution_count": null,
      "metadata": {
        "id": "x_w1zHgcTVSz"
      },
      "outputs": [],
      "source": [
        "# create encoder for each categorical variable\n",
        "label_gender = LabelEncoder()\n",
        "label_married = LabelEncoder()\n",
        "label_work = LabelEncoder()\n",
        "label_residence = LabelEncoder()\n",
        "label_smoking = LabelEncoder()"
      ]
    },
    {
      "cell_type": "code",
      "execution_count": null,
      "metadata": {
        "id": "EvSBc7v0TVSz"
      },
      "outputs": [],
      "source": [
        "clean_data['gender'] = label_gender.fit_transform(clean_data['gender'])\n",
        "clean_data['ever_married'] = label_married.fit_transform(clean_data['ever_married'])\n",
        "clean_data['work_type']= label_work.fit_transform(clean_data['work_type'])\n",
        "clean_data['Residence_type']= label_residence.fit_transform(clean_data['Residence_type'])\n",
        "clean_data['smoking_status']= label_smoking.fit_transform(clean_data['smoking_status'])\n",
        "with pd.option_context('expand_frame_repr', False):\n",
        "    print(clean_data.head())"
      ]
    },
    {
      "cell_type": "markdown",
      "metadata": {
        "id": "3R3l2hdzTVSz"
      },
      "source": [
        "### Inter-feature Correlation\n",
        "\n",
        "It is sometimes useful to measure the inter-feature correlation. If we find that a feature is highly correlated with the class (target), it could be an indication that this feature is informative about the class. In addition, if a feature is highly correlated with other features, we could remove one of them thus reducing the complexity while potentially improving the model's learning."
      ]
    },
    {
      "cell_type": "code",
      "execution_count": null,
      "metadata": {
        "id": "Vp5sFjQETVSz"
      },
      "outputs": [],
      "source": [
        "fig, ax = plt.subplots(figsize=(8,6))\n",
        "im = ax.matshow(clean_data.corr())\n",
        "ax.set_xticks(np.arange(clean_data.shape[1]))\n",
        "ax.set_yticks(np.arange(clean_data.shape[1]))\n",
        "ax.set_xticklabels(clean_data.columns,rotation=90)\n",
        "ax.set_yticklabels(clean_data.columns)\n",
        "# Create colorbar\n",
        "cbar = ax.figure.colorbar(im, ax=ax)\n",
        "cbar.ax.set_ylabel(\"Correlation\", rotation=-90, va=\"bottom\", fontsize=12)\n",
        "fig.tight_layout()\n",
        "plt.show()"
      ]
    },
    {
      "cell_type": "markdown",
      "metadata": {
        "id": "4BI6zXUqTVS0"
      },
      "source": [
        "### Histogram of Features"
      ]
    },
    {
      "cell_type": "code",
      "execution_count": null,
      "metadata": {
        "id": "_MdheILJTVS0"
      },
      "outputs": [],
      "source": [
        "fig = clean_data.hist(figsize=(10,8))\n",
        "plt.tight_layout()\n",
        "plt.show()"
      ]
    },
    {
      "cell_type": "markdown",
      "metadata": {
        "id": "4pmJ-6ciTVS0"
      },
      "source": [
        "### Class (Target) Distribution\n",
        "Now, let's take a look at the distribution of class (target). If the class is highly imbalanced, we have to solve this issue so that our model will not be biased towards the majority class."
      ]
    },
    {
      "cell_type": "code",
      "execution_count": null,
      "metadata": {
        "id": "sjAT1IZ_TVS0"
      },
      "outputs": [],
      "source": [
        "class_occur = clean_data['stroke'].value_counts()\n",
        "class_names = ['No Stroke','Stroke']\n",
        "fig, ax = plt.subplots()\n",
        "ax.pie(class_occur, labels=class_names, autopct='%1.2f%%',\n",
        "        shadow=True, startangle=0, counterclock=False)\n",
        "ax.axis('equal')  # Equal aspect ratio ensures that pie is drawn as a circle.\n",
        "ax.set_title('Class distribution')\n",
        "plt.show()\n",
        "print(\"# samples associated with no stroke: {}\".format(class_occur[0]))\n",
        "print(\"# samples associated with stroke: {}\".format(class_occur[1]))"
      ]
    },
    {
      "cell_type": "markdown",
      "metadata": {
        "id": "cDWPY9LdTVS1"
      },
      "source": [
        "## Data Preprocessing"
      ]
    },
    {
      "cell_type": "markdown",
      "metadata": {
        "id": "LfI0qFDuTVS1"
      },
      "source": [
        "### Handle Imbalanced Class\n",
        "\n",
        "There are several techniques that can be used to handle highly imbalanced class. This [article](https://heartbeat.fritz.ai/resampling-to-properly-handle-imbalanced-datasets-in-machine-learning-64d82c16ceaa) nicely summarises those different techniques. In this notebook, we are going to use one of oversampling technique called Synthetic Minority Oversampling Technique (SMOTE), by synthesising new samples from the minority class to have the same number of samples as the majority class (illustrated in figure below). Oversampling technique is chosen because we do not want to loose significant amount of information (97.88%) as if we use undersampling technique.\n",
        "<figure>\n",
        " <img src=\"https://miro.medium.com/max/1400/1*o_KfyMzF7LITK2DlYm_wHw.png\" style=\"width: 400px;\" alt=\"\"/>\n",
        " <figcaption>\n",
        " Source: <a href=\"https://heartbeat.fritz.ai/resampling-to-properly-handle-imbalanced-datasets-in-machine-learning-64d82c16ceaa\">here</a>\n",
        " </figcaption>\n",
        "</figure>"
      ]
    },
    {
      "cell_type": "code",
      "execution_count": null,
      "metadata": {
        "id": "m6261_sgTVS1"
      },
      "outputs": [],
      "source": [
        "# create the  object with the desired sampling strategy.\n",
        "ada = ADASYN(sampling_strategy='minority')\n",
        "\n",
        "# fit the object to our training data\n",
        "X, y = ada.fit_resample(clean_data.loc[:,clean_data.columns!='stroke'], clean_data['stroke'])\n",
        "print(\"Shape of X: {}\".format(X.shape))\n",
        "print(\"Shape of y: {}\".format(y.shape))"
      ]
    },
    {
      "cell_type": "markdown",
      "metadata": {
        "id": "ohJr9exqstfk"
      },
      "source": [
        "# New section"
      ]
    },
    {
      "cell_type": "code",
      "execution_count": null,
      "metadata": {
        "id": "m8aQR-URTVS1"
      },
      "outputs": [],
      "source": [
        "_, class_counts = np.unique(y, return_counts=True)\n",
        "class_names = ['No stroke', 'Stroke']\n",
        "fig, ax = plt.subplots()\n",
        "ax.pie(class_counts, labels=class_names, autopct='%1.2f%%',\n",
        "        shadow=True, startangle=90, counterclock=False)\n",
        "ax.axis('equal')  # Equal aspect ratio ensures that pie is drawn as a circle.\n",
        "ax.set_title('Class distribution')\n",
        "plt.show()\n",
        "print(\"# samples associated with no stroke: {}\".format(class_counts[0]))\n",
        "print(\"# samples associated with stroke: {}\".format(class_counts[1]))"
      ]
    },
    {
      "cell_type": "code",
      "execution_count": null,
      "metadata": {
        "id": "gtZODh52OPEP"
      },
      "outputs": [],
      "source": [
        "from sklearn.model_selection import cross_val_score\n"
      ]
    },
    {
      "cell_type": "markdown",
      "metadata": {
        "id": "Y9yQG1vhTVS1"
      },
      "source": [
        "### Data Splitting"
      ]
    },
    {
      "cell_type": "code",
      "execution_count": null,
      "metadata": {
        "id": "l8i_JqdKTVS1"
      },
      "outputs": [],
      "source": [
        "def split_train_valid_test(X,y,test_size=0.1,random_state=None):\n",
        "    X_train, X_test, y_train, y_test = train_test_split(X,y,test_size=test_size, random_state=random_state, stratify=y)\n",
        "    X_train, X_valid, y_train, y_valid = train_test_split(X_train,y_train,test_size=test_size/(1-test_size), random_state=random_state, stratify=y_train)\n",
        "    return X_train, X_valid, X_test, y_train, y_valid, y_test\n",
        "\n",
        "X_train, X_valid, X_test, y_train, y_valid, y_test = split_train_valid_test(X,y,test_size=0.1,random_state=42)\n",
        "_, train_counts = np.unique(y_train, return_counts=True)\n",
        "_, valid_counts = np.unique(y_valid, return_counts=True)\n",
        "_, test_counts = np.unique(y_test, return_counts=True)\n",
        "print(\"[train] # class 0: {} | # class 1: {}\".format(train_counts[0],train_counts[1]))\n",
        "print(\"[valid] # class 0: {} | # class 1: {}\".format(valid_counts[0],valid_counts[1]))\n",
        "print(\"[test]  # class 0: {} | # class 1: {}\".format(test_counts[0],test_counts[1]))"
      ]
    },
    {
      "cell_type": "markdown",
      "metadata": {
        "id": "Johuzb3rTVS2"
      },
      "source": [
        "### Data Normalisation"
      ]
    },
    {
      "cell_type": "code",
      "execution_count": null,
      "metadata": {
        "id": "am5Yhi6DTVS2"
      },
      "outputs": [],
      "source": [
        "scaler = StandardScaler()\n",
        "scaler = scaler.fit(X_train)\n",
        "\n",
        "X_train_std = scaler.transform(X_train)\n",
        "X_valid_std = scaler.transform(X_valid)\n",
        "X_test_std = scaler.transform(X_test)"
      ]
    },
    {
      "cell_type": "markdown",
      "metadata": {
        "id": "PmyuhkqfTVS2"
      },
      "source": [
        "## ML Model Training and Evaluation\n",
        "We will implement and benchmark the performance of the following 7 ML algorithms:\n",
        "1. Singular Vector Machine (SVM)\n",
        "2. Gaussian Naive Bayes (GNB)\n",
        "3. Logistic Regression (LR)\n",
        "4. Decision Tree (DT)\n",
        "5. Random Forest (RF)\n",
        "6. LightGBM (LGBM)\n",
        "7. XGboost (XGB)"
      ]
    },
    {
      "cell_type": "markdown",
      "metadata": {
        "id": "YafH7rn5TVS2"
      },
      "source": [
        "### Performance Metrics\n",
        "\n",
        "The peformance will be evaluated based on two different groups of metrics:\n",
        "1. Sensitivity, specificity, and area under the curve (AUC)\n",
        "2. Precision, recall, and F1 score"
      ]
    },
    {
      "cell_type": "code",
      "execution_count": null,
      "metadata": {
        "id": "FSmEsC9wTVS2"
      },
      "outputs": [],
      "source": [
        "def calc_sens_spec(y_true,y_pred):\n",
        "    conf_matrix = confusion_matrix(y_true,y_pred)\n",
        "    TP = conf_matrix[1][1]\n",
        "    TN = conf_matrix[0][0]\n",
        "    FP = conf_matrix[0][1]\n",
        "    FN = conf_matrix[1][0]\n",
        "    # calculate the sensitivity\n",
        "    sensitivity = TP / (TP + FN)    \n",
        "    # calculate the specificity\n",
        "    specificity = TN / (TN + FP)\n",
        "    return sensitivity,specificity"
      ]
    },
    {
      "cell_type": "markdown",
      "metadata": {
        "id": "kk8jpGfuTVS2"
      },
      "source": [
        "### Singular Vector Machine (SVM)"
      ]
    },
    {
      "cell_type": "code",
      "execution_count": null,
      "metadata": {
        "colab": {
          "background_save": true
        },
        "id": "n8Qsv6aUTVS2",
        "outputId": "0b43b6a6-d219-4f47-a0ab-38fdcef34acf"
      },
      "outputs": [
        {
          "name": "stdout",
          "output_type": "stream",
          "text": [
            "Finished training within 405.01 seconds\n"
          ]
        }
      ],
      "source": [
        "start = timer.time()\n",
        "svm_model = SVC(kernel='rbf',probability=True)\n",
        "svm_model.fit(X_train_std, y_train)\n",
        "end = timer.time()\n",
        "print(\"Finished training within {:.2f} seconds\".format(end-start))\n",
        "# Predicting the test set results\n",
        "y_svm = svm_model.predict(X_test_std)\n",
        "y_svm_prob = svm_model.predict_proba(X_test_std)"
      ]
    },
    {
      "cell_type": "code",
      "execution_count": null,
      "metadata": {
        "colab": {
          "background_save": true
        },
        "id": "dD-yPXPUTVS3",
        "outputId": "be70b52a-0be5-41cf-b3bd-e12d5056592d"
      },
      "outputs": [
        {
          "name": "stdout",
          "output_type": "stream",
          "text": [
            "Classification report for SVM: \n",
            "              precision    recall  f1-score   support\n",
            "\n",
            "           0       0.88      0.80      0.83      2947\n",
            "           1       0.81      0.89      0.85      2952\n",
            "\n",
            "    accuracy                           0.84      5899\n",
            "   macro avg       0.85      0.84      0.84      5899\n",
            "weighted avg       0.85      0.84      0.84      5899\n",
            "\n",
            "Confusion matrix for SVM: \n",
            "[[2344  603]\n",
            " [ 328 2624]]\n",
            "Accuracy score for SVM: 0.84\n",
            "Precision score for SVM: 0.81\n",
            "Recall score for SVM: 0.89\n",
            "F1 score for SVM: 0.85\n",
            "Sensitivity score for SVM: 0.89\n",
            "Specitivity score for SVM: 0.80\n",
            "AUC score for SVM: 0.92\n"
          ]
        },
        {
          "data": {
            "image/png": "[encoded data removed]",
            "text/plain": [
              "<Figure size 432x288 with 1 Axes>"
            ]
          },
          "metadata": {},
          "output_type": "display_data"
        }
      ],
      "source": [
        "print(\"Classification report for SVM: \\n{}\".format(classification_report(y_test,y_svm)))\n",
        "print(\"Confusion matrix for SVM: \\n{}\".format(confusion_matrix(y_test,y_svm)))\n",
        "print(\"Accuracy score for SVM: {:.2f}\".format(accuracy_score(y_test,y_svm)))\n",
        "# calculate precision, recall, and f1 scores\n",
        "prec_svm = precision_score(y_test,y_svm)\n",
        "rec_svm = recall_score(y_test,y_svm)\n",
        "f1_svm = f1_score(y_test,y_svm)\n",
        "print(\"Precision score for SVM: {:.2f}\".format(prec_svm))\n",
        "print(\"Recall score for SVM: {:.2f}\".format(rec_svm))\n",
        "print(\"F1 score for SVM: {:.2f}\".format(f1_svm))\n",
        "# calculate sensitivity, specificity, and auc\n",
        "sens_svm,spec_svm = calc_sens_spec(y_test,y_svm)\n",
        "fpr, tpr, _ = roc_curve(y_test,  y_svm_prob[:,1])\n",
        "auc_svm = roc_auc_score(y_test, y_svm_prob[:,1])\n",
        "print(\"Sensitivity score for SVM: {:.2f}\".format(sens_svm))\n",
        "print(\"Specitivity score for SVM: {:.2f}\".format(spec_svm))\n",
        "print(\"AUC score for SVM: {:.2f}\".format(auc_svm))\n",
        "fig, ax = plt.subplots()\n",
        "ax.plot(fpr, tpr, color='blue', label='ROC curve (area = %0.2f)' % auc_svm)\n",
        "ax.plot([0, 1], [0, 1], color='green', linestyle='--')\n",
        "ax.set_xlim([-0.05, 1.0])\n",
        "ax.set_ylim([0.0, 1.05])\n",
        "ax.set_xlabel('False Positive Rate')\n",
        "ax.set_ylabel('True Positive Rate')\n",
        "ax.set_title('Receiver Operating Characteristic (SVM)')\n",
        "ax.legend(loc=\"lower right\")\n",
        "plt.show()"
      ]
    },
    {
      "cell_type": "markdown",
      "metadata": {
        "id": "b9GE6wPKTVS3"
      },
      "source": [
        "### Gaussian Naive Bayes (GNB)"
      ]
    },
    {
      "cell_type": "code",
      "execution_count": null,
      "metadata": {
        "colab": {
          "background_save": true
        },
        "id": "6huMEsvlTVS3",
        "outputId": "6c9e4725-3ad3-48ce-c2a3-456716726e7c"
      },
      "outputs": [
        {
          "name": "stdout",
          "output_type": "stream",
          "text": [
            "Finished training within 0.03 seconds\n"
          ]
        }
      ],
      "source": [
        "start = timer.time()\n",
        "gnb_model = GaussianNB()\n",
        "gnb_model.fit(X_train_std, y_train)\n",
        "end = timer.time()\n",
        "print(\"Finished training within {:.2f} seconds\".format(end-start))\n",
        "# Predicting the test set results\n",
        "y_gnb = gnb_model.predict(X_test_std)\n",
        "y_gnb_prob = gnb_model.predict_proba(X_test_std)"
      ]
    },
    {
      "cell_type": "code",
      "execution_count": null,
      "metadata": {
        "colab": {
          "background_save": true
        },
        "id": "_K_Po_doTVS3",
        "outputId": "d28ac1c3-be06-4dab-9fd5-11a769de5b20"
      },
      "outputs": [
        {
          "name": "stdout",
          "output_type": "stream",
          "text": [
            "Classification report for GNB: \n",
            "              precision    recall  f1-score   support\n",
            "\n",
            "           0       0.80      0.73      0.76      2947\n",
            "           1       0.75      0.82      0.78      2952\n",
            "\n",
            "    accuracy                           0.77      5899\n",
            "   macro avg       0.78      0.77      0.77      5899\n",
            "weighted avg       0.78      0.77      0.77      5899\n",
            "\n",
            "Confusion matrix for GNB: \n",
            "[[2137  810]\n",
            " [ 524 2428]]\n",
            "Accuracy score for GNB: 0.77\n",
            "Precision score for GNB: 0.75\n",
            "Recall score for GNB: 0.82\n",
            "F1 score for GNB: 0.78\n",
            "Sensitivity score for GNB: 0.82\n",
            "Specitivity score for GNB: 0.73\n",
            "AUC score for GNB: 0.85\n"
          ]
        },
        {
          "data": {
            "image/png": "[encoded data removed]",
            "text/plain": [
              "<Figure size 432x288 with 1 Axes>"
            ]
          },
          "metadata": {},
          "output_type": "display_data"
        }
      ],
      "source": [
        "print(\"Classification report for GNB: \\n{}\".format(classification_report(y_test,y_gnb)))\n",
        "print(\"Confusion matrix for GNB: \\n{}\".format(confusion_matrix(y_test,y_gnb)))\n",
        "print(\"Accuracy score for GNB: {:.2f}\".format(accuracy_score(y_test,y_gnb)))\n",
        "# calculate precision, recall, and f1 scores\n",
        "prec_gnb = precision_score(y_test,y_gnb)\n",
        "rec_gnb = recall_score(y_test,y_gnb)\n",
        "f1_gnb = f1_score(y_test,y_gnb)\n",
        "print(\"Precision score for GNB: {:.2f}\".format(prec_gnb))\n",
        "print(\"Recall score for GNB: {:.2f}\".format(rec_gnb))\n",
        "print(\"F1 score for GNB: {:.2f}\".format(f1_gnb))\n",
        "# calculate sensitivity, specificity, and auc\n",
        "sens_gnb,spec_gnb = calc_sens_spec(y_test,y_gnb)\n",
        "fpr, tpr, _ = roc_curve(y_test,  y_gnb_prob[:,1])\n",
        "auc_gnb = roc_auc_score(y_test, y_gnb_prob[:,1])\n",
        "print(\"Sensitivity score for GNB: {:.2f}\".format(sens_gnb))\n",
        "print(\"Specitivity score for GNB: {:.2f}\".format(spec_gnb))\n",
        "print(\"AUC score for GNB: {:.2f}\".format(auc_gnb))\n",
        "fig, ax = plt.subplots()\n",
        "ax.plot(fpr, tpr, color='blue', label='ROC curve (area = %0.2f)' % auc_gnb)\n",
        "ax.plot([0, 1], [0, 1], color='green', linestyle='--')\n",
        "ax.set_xlim([-0.05, 1.0])\n",
        "ax.set_ylim([0.0, 1.05])\n",
        "ax.set_xlabel('False Positive Rate')\n",
        "ax.set_ylabel('True Positive Rate')\n",
        "ax.set_title('Receiver Operating Characteristic (GNB)')\n",
        "ax.legend(loc=\"lower right\")\n",
        "plt.show()"
      ]
    },
    {
      "cell_type": "markdown",
      "metadata": {
        "id": "_jyaYVMRTVS3"
      },
      "source": [
        "### Logistic Regression (LR)"
      ]
    },
    {
      "cell_type": "code",
      "execution_count": null,
      "metadata": {
        "colab": {
          "background_save": true
        },
        "id": "HOHd46k2TVS3",
        "outputId": "cb17859d-df28-4adc-8deb-acef050d1d2e"
      },
      "outputs": [
        {
          "name": "stdout",
          "output_type": "stream",
          "text": [
            "Finished training within 0.10 seconds\n"
          ]
        }
      ],
      "source": [
        "start = timer.time()\n",
        "logit_model = LogisticRegression(solver='lbfgs', random_state=42)\n",
        "logit_model.fit(X_train_std, y_train)\n",
        "end = timer.time()\n",
        "print(\"Finished training within {:.2f} seconds\".format(end-start))\n",
        "# Predicting the test set results\n",
        "y_logit = logit_model.predict(X_test_std)\n",
        "y_logit_prob = logit_model.predict_proba(X_test_std)"
      ]
    },
    {
      "cell_type": "code",
      "execution_count": null,
      "metadata": {
        "colab": {
          "background_save": true
        },
        "id": "szLnVsn_TVS4",
        "outputId": "802a0d52-acc0-4ff8-e6c0-8205e15a8242"
      },
      "outputs": [
        {
          "name": "stdout",
          "output_type": "stream",
          "text": [
            "Classification report for LR: \n",
            "              precision    recall  f1-score   support\n",
            "\n",
            "           0       0.80      0.76      0.78      2947\n",
            "           1       0.77      0.81      0.79      2952\n",
            "\n",
            "    accuracy                           0.78      5899\n",
            "   macro avg       0.78      0.78      0.78      5899\n",
            "weighted avg       0.78      0.78      0.78      5899\n",
            "\n",
            "Confusion matrix for LR: \n",
            "[[2230  717]\n",
            " [ 563 2389]]\n",
            "Accuracy score for LR: 0.78\n",
            "Precision score for LR: 0.77\n",
            "Recall score for LR: 0.81\n",
            "F1 score for LR: 0.79\n",
            "Sensitivity score for LR: 0.81\n",
            "Specitivity score for LR: 0.76\n",
            "AUC score for LR: 0.87\n"
          ]
        },
        {
          "data": {
            "image/png": "[encoded data removed]",
            "text/plain": [
              "<Figure size 432x288 with 1 Axes>"
            ]
          },
          "metadata": {},
          "output_type": "display_data"
        }
      ],
      "source": [
        "print(\"Classification report for LR: \\n{}\".format(classification_report(y_test,y_logit)))\n",
        "print(\"Confusion matrix for LR: \\n{}\".format(confusion_matrix(y_test,y_logit)))\n",
        "print(\"Accuracy score for LR: {:.2f}\".format(accuracy_score(y_test,y_logit)))\n",
        "# calculate precision, recall, and f1 scores\n",
        "prec_logit = precision_score(y_test,y_logit)\n",
        "rec_logit = recall_score(y_test,y_logit)\n",
        "f1_logit = f1_score(y_test,y_logit)\n",
        "print(\"Precision score for LR: {:.2f}\".format(prec_logit))\n",
        "print(\"Recall score for LR: {:.2f}\".format(rec_logit))\n",
        "print(\"F1 score for LR: {:.2f}\".format(f1_logit))\n",
        "# calculate sensitivity, specificity, and auc\n",
        "sens_logit,spec_logit = calc_sens_spec(y_test,y_logit)\n",
        "fpr, tpr, _ = roc_curve(y_test,  y_logit_prob[:,1])\n",
        "auc_logit = roc_auc_score(y_test, y_logit_prob[:,1])\n",
        "print(\"Sensitivity score for LR: {:.2f}\".format(sens_logit))\n",
        "print(\"Specitivity score for LR: {:.2f}\".format(spec_logit))\n",
        "print(\"AUC score for LR: {:.2f}\".format(auc_logit))\n",
        "fig, ax = plt.subplots()\n",
        "ax.plot(fpr, tpr, color='blue', label='ROC curve (area = %0.2f)' % auc_logit)\n",
        "ax.plot([0, 1], [0, 1], color='green', linestyle='--')\n",
        "ax.set_xlim([-0.05, 1.0])\n",
        "ax.set_ylim([0.0, 1.05])\n",
        "ax.set_xlabel('False Positive Rate')\n",
        "ax.set_ylabel('True Positive Rate')\n",
        "ax.set_title('Receiver Operating Characteristic (LR)')\n",
        "ax.legend(loc=\"lower right\")\n",
        "plt.show()"
      ]
    },
    {
      "cell_type": "markdown",
      "metadata": {
        "id": "ZJbZKdFcTVS4"
      },
      "source": [
        "### Decision Tree (DT)"
      ]
    },
    {
      "cell_type": "code",
      "execution_count": null,
      "metadata": {
        "colab": {
          "background_save": true
        },
        "id": "J2UfnQohTVS4",
        "outputId": "6bc196f5-0247-4bb9-a152-d72f90219f94"
      },
      "outputs": [
        {
          "name": "stdout",
          "output_type": "stream",
          "text": [
            "Finished training within 0.29 seconds\n"
          ]
        }
      ],
      "source": [
        "start = timer.time()\n",
        "dtree_model = DecisionTreeClassifier(random_state=42)\n",
        "dtree_model.fit(X_train_std, y_train)\n",
        "end = timer.time()\n",
        "print(\"Finished training within {:.2f} seconds\".format(end-start))\n",
        "# Predicting the test set results\n",
        "y_dtree = dtree_model.predict(X_test_std)\n",
        "y_dtree_prob = dtree_model.predict_proba(X_test_std)"
      ]
    },
    {
      "cell_type": "code",
      "execution_count": null,
      "metadata": {
        "colab": {
          "background_save": true
        },
        "id": "-tE81YfaTVS5",
        "outputId": "c01434a3-69a0-4904-f794-df4d348fbbbf"
      },
      "outputs": [
        {
          "name": "stdout",
          "output_type": "stream",
          "text": [
            "Classification report for DT: \n",
            "              precision    recall  f1-score   support\n",
            "\n",
            "           0       0.96      0.93      0.94      2947\n",
            "           1       0.93      0.96      0.95      2952\n",
            "\n",
            "    accuracy                           0.94      5899\n",
            "   macro avg       0.95      0.94      0.94      5899\n",
            "weighted avg       0.95      0.94      0.94      5899\n",
            "\n",
            "Confusion matrix for DT: \n",
            "[[2745  202]\n",
            " [ 123 2829]]\n",
            "Accuracy score for DT: 0.94\n",
            "Precision score for DT: 0.93\n",
            "Recall score for DT: 0.96\n",
            "F1 score for DT: 0.95\n",
            "Sensitivity score for DT: 0.96\n",
            "Specitivity score for DT: 0.93\n",
            "AUC score for DT: 0.94\n"
          ]
        },
        {
          "data": {
            "image/png": "[encoded data removed]",
            "text/plain": [
              "<Figure size 432x288 with 1 Axes>"
            ]
          },
          "metadata": {},
          "output_type": "display_data"
        }
      ],
      "source": [
        "print(\"Classification report for DT: \\n{}\".format(classification_report(y_test,y_dtree)))\n",
        "print(\"Confusion matrix for DT: \\n{}\".format(confusion_matrix(y_test,y_dtree)))\n",
        "print(\"Accuracy score for DT: {:.2f}\".format(accuracy_score(y_test,y_dtree)))\n",
        "# calculate precision, recall, and f1 scores\n",
        "prec_dtree = precision_score(y_test,y_dtree)\n",
        "rec_dtree = recall_score(y_test,y_dtree)\n",
        "f1_dtree = f1_score(y_test,y_dtree)\n",
        "print(\"Precision score for DT: {:.2f}\".format(prec_dtree))\n",
        "print(\"Recall score for DT: {:.2f}\".format(rec_dtree))\n",
        "print(\"F1 score for DT: {:.2f}\".format(f1_dtree))\n",
        "# calculate sensitivity, specificity, and auc\n",
        "sens_dtree,spec_dtree = calc_sens_spec(y_test,y_dtree)\n",
        "fpr, tpr, _ = roc_curve(y_test,  y_dtree_prob[:,1])\n",
        "auc_dtree = roc_auc_score(y_test, y_dtree_prob[:,1])\n",
        "print(\"Sensitivity score for DT: {:.2f}\".format(sens_dtree))\n",
        "print(\"Specitivity score for DT: {:.2f}\".format(spec_dtree))\n",
        "print(\"AUC score for DT: {:.2f}\".format(auc_dtree))\n",
        "fig, ax = plt.subplots()\n",
        "ax.plot(fpr, tpr, color='blue', label='ROC curve (area = %0.2f)' % auc_dtree)\n",
        "ax.plot([0, 1], [0, 1], color='green', linestyle='--')\n",
        "ax.set_xlim([-0.05, 1.0])\n",
        "ax.set_ylim([0.0, 1.05])\n",
        "ax.set_xlabel('False Positive Rate')\n",
        "ax.set_ylabel('True Positive Rate')\n",
        "ax.set_title('Receiver Operating Characteristic (DT)')\n",
        "ax.legend(loc=\"lower right\")\n",
        "plt.show()"
      ]
    },
    {
      "cell_type": "markdown",
      "metadata": {
        "id": "astC-nxQTVS5"
      },
      "source": [
        "### Random Forest (RF)"
      ]
    },
    {
      "cell_type": "code",
      "execution_count": null,
      "metadata": {
        "colab": {
          "background_save": true
        },
        "id": "TYJ2oen4TVS5"
      },
      "outputs": [],
      "source": [
        "start = timer.time()\n",
        "ranfor_model = RandomForestClassifier(n_estimators=100, random_state=42)\n",
        "ranfor_model.fit(X_train_std, y_train)\n",
        "end = timer.time()\n",
        "print(\"Finished training within {:.2f} seconds\".format(end-start))\n",
        "# Predicting the test set results\n",
        "y_ranfor = ranfor_model.predict(X_test_std)\n",
        "y_ranfor_prob = ranfor_model.predict_proba(X_test_std)"
      ]
    },
    {
      "cell_type": "code",
      "execution_count": null,
      "metadata": {
        "colab": {
          "background_save": true
        },
        "id": "o-RFNvS2TVS5",
        "outputId": "499abd2c-9acb-43df-e49e-a46f4dd4d9b3"
      },
      "outputs": [
        {
          "name": "stdout",
          "output_type": "stream",
          "text": [
            "Classification report for RF: \n",
            "              precision    recall  f1-score   support\n",
            "\n",
            "           0       0.98      0.96      0.97      2947\n",
            "           1       0.96      0.98      0.97      2952\n",
            "\n",
            "    accuracy                           0.97      5899\n",
            "   macro avg       0.97      0.97      0.97      5899\n",
            "weighted avg       0.97      0.97      0.97      5899\n",
            "\n",
            "Confusion matrix for RF: \n",
            "[[2817  130]\n",
            " [  68 2884]]\n",
            "Accuracy score for RF: 0.97\n",
            "Precision score for RF: 0.96\n",
            "Recall score for RF: 0.98\n",
            "F1 score for RF: 0.97\n",
            "Sensitivity score for RF: 0.98\n",
            "Specitivity score for RF: 0.96\n",
            "AUC score for RF: 1.00\n"
          ]
        },
        {
          "data": {
            "image/png": "[encoded data removed]",
            "text/plain": [
              "<Figure size 432x288 with 1 Axes>"
            ]
          },
          "metadata": {},
          "output_type": "display_data"
        }
      ],
      "source": [
        "print(\"Classification report for RF: \\n{}\".format(classification_report(y_test,y_ranfor)))\n",
        "print(\"Confusion matrix for RF: \\n{}\".format(confusion_matrix(y_test,y_ranfor)))\n",
        "print(\"Accuracy score for RF: {:.2f}\".format(accuracy_score(y_test,y_ranfor)))\n",
        "# calculate precision, recall, and f1 scores\n",
        "prec_ranfor = precision_score(y_test,y_ranfor)\n",
        "rec_ranfor = recall_score(y_test,y_ranfor)\n",
        "f1_ranfor = f1_score(y_test,y_ranfor)\n",
        "print(\"Precision score for RF: {:.2f}\".format(prec_ranfor))\n",
        "print(\"Recall score for RF: {:.2f}\".format(rec_ranfor))\n",
        "print(\"F1 score for RF: {:.2f}\".format(f1_ranfor))\n",
        "# calculate sensitivity, specificity, and auc\n",
        "sens_ranfor,spec_ranfor = calc_sens_spec(y_test,y_ranfor)\n",
        "fpr, tpr, _ = roc_curve(y_test,  y_ranfor_prob[:,1])\n",
        "auc_ranfor = roc_auc_score(y_test, y_ranfor_prob[:,1])\n",
        "print(\"Sensitivity score for RF: {:.2f}\".format(sens_ranfor))\n",
        "print(\"Specitivity score for RF: {:.2f}\".format(spec_ranfor))\n",
        "print(\"AUC score for RF: {:.2f}\".format(auc_ranfor))\n",
        "fig, ax = plt.subplots()\n",
        "ax.plot(fpr, tpr, color='blue', label='ROC curve (area = %0.2f)' % auc_ranfor)\n",
        "ax.plot([0, 1], [0, 1], color='green', linestyle='--')\n",
        "ax.set_xlim([-0.05, 1.0])\n",
        "ax.set_ylim([0.0, 1.05])\n",
        "ax.set_xlabel('False Positive Rate')\n",
        "ax.set_ylabel('True Positive Rate')\n",
        "ax.set_title('Receiver Operating Characteristic (RF)')\n",
        "ax.legend(loc=\"lower right\")\n",
        "plt.show()"
      ]
    },
    {
      "cell_type": "markdown",
      "metadata": {
        "id": "m_tfPI-hTVS6"
      },
      "source": [
        "### LightGBM (LGBM)"
      ]
    },
    {
      "cell_type": "code",
      "execution_count": null,
      "metadata": {
        "colab": {
          "background_save": true
        },
        "id": "YqyOLUCHTVS6",
        "outputId": "5e90de92-6199-4a63-8ecf-b3db6811ef2e"
      },
      "outputs": [
        {
          "name": "stdout",
          "output_type": "stream",
          "text": [
            "Finished training within 0.60 seconds\n"
          ]
        }
      ],
      "source": [
        "start = timer.time()\n",
        "lgbm_model = LGBMClassifier(n_estimators=100, random_state=42)\n",
        "lgbm_model.fit(X_train_std, y_train)\n",
        "end = timer.time()\n",
        "print(\"Finished training within {:.2f} seconds\".format(end-start))\n",
        "# Predicting the test set results\n",
        "y_lgbm = lgbm_model.predict(X_test_std)\n",
        "y_lgbm_prob = lgbm_model.predict_proba(X_test_std)"
      ]
    },
    {
      "cell_type": "code",
      "execution_count": null,
      "metadata": {
        "colab": {
          "background_save": true
        },
        "id": "wsrBlJPUTVS6",
        "outputId": "3f697313-3f79-4315-d04c-f74002b49acd"
      },
      "outputs": [
        {
          "name": "stdout",
          "output_type": "stream",
          "text": [
            "Classification report for LGBM: \n",
            "              precision    recall  f1-score   support\n",
            "\n",
            "           0       0.94      0.93      0.93      2947\n",
            "           1       0.93      0.94      0.94      2952\n",
            "\n",
            "    accuracy                           0.93      5899\n",
            "   macro avg       0.94      0.93      0.93      5899\n",
            "weighted avg       0.94      0.93      0.93      5899\n",
            "\n",
            "Confusion matrix for LGBM: \n",
            "[[2730  217]\n",
            " [ 167 2785]]\n",
            "Accuracy score for LGBM: 0.93\n",
            "Precision score for LGBM: 0.93\n",
            "Recall score for LGBM: 0.94\n",
            "F1 score for LGBM: 0.94\n",
            "Sensitivity score for LGBM: 0.94\n",
            "Specitivity score for LGBM: 0.93\n",
            "AUC score for LGBM: 0.99\n"
          ]
        },
        {
          "data": {
            "image/png": "[encoded data removed]",
            "text/plain": [
              "<Figure size 432x288 with 1 Axes>"
            ]
          },
          "metadata": {},
          "output_type": "display_data"
        }
      ],
      "source": [
        "print(\"Classification report for LGBM: \\n{}\".format(classification_report(y_test,y_lgbm)))\n",
        "print(\"Confusion matrix for LGBM: \\n{}\".format(confusion_matrix(y_test,y_lgbm)))\n",
        "print(\"Accuracy score for LGBM: {:.2f}\".format(accuracy_score(y_test,y_lgbm)))\n",
        "# calculate precision, recall, and f1 scores\n",
        "prec_lgbm = precision_score(y_test,y_lgbm)\n",
        "rec_lgbm = recall_score(y_test,y_lgbm)\n",
        "f1_lgbm = f1_score(y_test,y_lgbm)\n",
        "print(\"Precision score for LGBM: {:.2f}\".format(prec_lgbm))\n",
        "print(\"Recall score for LGBM: {:.2f}\".format(rec_lgbm))\n",
        "print(\"F1 score for LGBM: {:.2f}\".format(f1_lgbm))\n",
        "# calculate sensitivity, specificity, and auc\n",
        "sens_lgbm,spec_lgbm = calc_sens_spec(y_test,y_lgbm)\n",
        "fpr, tpr, _ = roc_curve(y_test,  y_lgbm_prob[:,1])\n",
        "auc_lgbm = roc_auc_score(y_test, y_lgbm_prob[:,1])\n",
        "print(\"Sensitivity score for LGBM: {:.2f}\".format(sens_lgbm))\n",
        "print(\"Specitivity score for LGBM: {:.2f}\".format(spec_lgbm))\n",
        "print(\"AUC score for LGBM: {:.2f}\".format(auc_lgbm))\n",
        "fig, ax = plt.subplots()\n",
        "ax.plot(fpr, tpr, color='blue', label='ROC curve (area = %0.2f)' % auc_lgbm)\n",
        "ax.plot([0, 1], [0, 1], color='green', linestyle='--')\n",
        "ax.set_xlim([-0.05, 1.0])\n",
        "ax.set_ylim([0.0, 1.05])\n",
        "ax.set_xlabel('False Positive Rate')\n",
        "ax.set_ylabel('True Positive Rate')\n",
        "ax.set_title('Receiver Operating Characteristic (LGBM)')\n",
        "ax.legend(loc=\"lower right\")\n",
        "plt.show()"
      ]
    },
    {
      "cell_type": "markdown",
      "metadata": {
        "id": "YRFKt-VdTVS6"
      },
      "source": [
        "### XGBoost (XGB)"
      ]
    },
    {
      "cell_type": "code",
      "execution_count": null,
      "metadata": {
        "colab": {
          "background_save": true
        },
        "id": "g3Lq2fb9TVS6",
        "outputId": "9f05aefb-dc3f-4861-c92c-df16cd267417"
      },
      "outputs": [
        {
          "name": "stdout",
          "output_type": "stream",
          "text": [
            "Finished training within 2.57 seconds\n"
          ]
        }
      ],
      "source": [
        "start = timer.time()\n",
        "xgb_model = XGBClassifier(objective=\"binary:logistic\", random_state=42)\n",
        "xgb_model.fit(X_train_std, y_train)\n",
        "end = timer.time()\n",
        "print(\"Finished training within {:.2f} seconds\".format(end-start))\n",
        "# Predicting the test set results\n",
        "y_xgb = xgb_model.predict(X_test_std)\n",
        "y_xgb_prob = xgb_model.predict_proba(X_test_std)"
      ]
    },
    {
      "cell_type": "code",
      "execution_count": null,
      "metadata": {
        "colab": {
          "background_save": true
        },
        "id": "L5SFrz6fTVS6",
        "outputId": "ee8e2586-84b7-4bef-e55c-0e19d7f37700"
      },
      "outputs": [
        {
          "name": "stdout",
          "output_type": "stream",
          "text": [
            "Classification report for XGB: \n",
            "              precision    recall  f1-score   support\n",
            "\n",
            "           0       0.88      0.80      0.84      2947\n",
            "           1       0.82      0.89      0.85      2952\n",
            "\n",
            "    accuracy                           0.85      5899\n",
            "   macro avg       0.85      0.85      0.85      5899\n",
            "weighted avg       0.85      0.85      0.85      5899\n",
            "\n",
            "Confusion matrix for XGB: \n",
            "[[2360  587]\n",
            " [ 322 2630]]\n",
            "Accuracy score for XGB: 0.85\n",
            "Precision score for XGB: 0.82\n",
            "Recall score for XGB: 0.89\n",
            "F1 score for XGB: 0.85\n",
            "Sensitivity score for XGB: 0.89\n",
            "Specitivity score for XGB: 0.80\n",
            "AUC score for XGB: 0.93\n"
          ]
        },
        {
          "data": {
            "image/png": "[encoded data removed]",
            "text/plain": [
              "<Figure size 432x288 with 1 Axes>"
            ]
          },
          "metadata": {},
          "output_type": "display_data"
        }
      ],
      "source": [
        "print(\"Classification report for XGB: \\n{}\".format(classification_report(y_test,y_xgb)))\n",
        "print(\"Confusion matrix for XGB: \\n{}\".format(confusion_matrix(y_test,y_xgb)))\n",
        "print(\"Accuracy score for XGB: {:.2f}\".format(accuracy_score(y_test,y_xgb)))\n",
        "# calculate precision, recall, and f1 scores\n",
        "prec_xgb = precision_score(y_test,y_xgb)\n",
        "rec_xgb = recall_score(y_test,y_xgb)\n",
        "f1_xgb = f1_score(y_test,y_xgb)\n",
        "print(\"Precision score for XGB: {:.2f}\".format(prec_xgb))\n",
        "print(\"Recall score for XGB: {:.2f}\".format(rec_xgb))\n",
        "print(\"F1 score for XGB: {:.2f}\".format(f1_xgb))\n",
        "# calculate sensitivity, specificity, and auc\n",
        "sens_xgb,spec_xgb = calc_sens_spec(y_test,y_xgb)\n",
        "fpr, tpr, _ = roc_curve(y_test,  y_xgb_prob[:,1])\n",
        "auc_xgb = roc_auc_score(y_test, y_xgb_prob[:,1])\n",
        "print(\"Sensitivity score for XGB: {:.2f}\".format(sens_xgb))\n",
        "print(\"Specitivity score for XGB: {:.2f}\".format(spec_xgb))\n",
        "print(\"AUC score for XGB: {:.2f}\".format(auc_xgb))\n",
        "fig, ax = plt.subplots()\n",
        "ax.plot(fpr, tpr, color='blue', label='ROC curve (area = %0.2f)' % auc_xgb)\n",
        "ax.plot([0, 1], [0, 1], color='green', linestyle='--')\n",
        "ax.set_xlim([-0.05, 1.0])\n",
        "ax.set_ylim([0.0, 1.05])\n",
        "ax.set_xlabel('False Positive Rate')\n",
        "ax.set_ylabel('True Positive Rate')\n",
        "ax.set_title('Receiver Operating Characteristic (XGB)')\n",
        "ax.legend(loc=\"lower right\")\n",
        "plt.show()"
      ]
    },
    {
      "cell_type": "markdown",
      "metadata": {
        "id": "ZRZQnrMOTVS7"
      },
      "source": [
        "## Performance Benchmark Across Models"
      ]
    },
    {
      "cell_type": "code",
      "execution_count": null,
      "metadata": {
        "colab": {
          "background_save": true
        },
        "id": "LDT1arPnTVS7",
        "outputId": "c42265a1-aeb8-4675-8f72-dbdcb5f0c735"
      },
      "outputs": [
        {
          "data": {
            "image/png": "[encoded data removed]",
            "text/plain": [
              "<Figure size 576x432 with 1 Axes>"
            ]
          },
          "metadata": {},
          "output_type": "display_data"
        },
        {
          "data": {
            "image/png": "[encoded data removed]",
            "text/plain": [
              "<Figure size 576x432 with 1 Axes>"
            ]
          },
          "metadata": {},
          "output_type": "display_data"
        }
      ],
      "source": [
        "ml_names = ['GNB', 'LR', 'DT', 'RF', 'LGBM', 'XGB']\n",
        "sens_all = [sens_gnb, sens_logit, sens_dtree, sens_ranfor, sens_lgbm, sens_xgb]\n",
        "spec_all = [spec_gnb, spec_logit, spec_dtree, spec_ranfor, spec_lgbm, spec_xgb]\n",
        "auc_all = [auc_gnb, auc_logit, auc_dtree, auc_ranfor, auc_lgbm, auc_xgb]\n",
        "\n",
        "prec_all = [prec_gnb, prec_logit, prec_dtree, prec_ranfor, prec_lgbm, prec_xgb]\n",
        "rec_all = [rec_gnb, rec_logit, rec_dtree, rec_ranfor, rec_lgbm, rec_xgb]\n",
        "f1_all = [f1_gnb, f1_logit, f1_dtree, f1_ranfor, f1_lgbm, f1_xgb]\n",
        "\n",
        "def autolabel(bars):\n",
        "    \"\"\"Attach a text label above each bar in displaying its height.\"\"\"\n",
        "    for bar in bars:\n",
        "        height = bar.get_height()\n",
        "        ax.annotate('{:.2f}'.format(height),\n",
        "                    xy=(bar.get_x() + bar.get_width() / 2, height),\n",
        "                    xytext=(0, 5),  # 3 points vertical offset\n",
        "                    textcoords=\"offset points\",\n",
        "                    fontsize=12,\n",
        "                    rotation=90,\n",
        "                    ha='center', va='bottom')\n",
        "\n",
        "width = 0.25  # the width of the bars\n",
        "r1 = np.arange(len(ml_names))  # the label locations\n",
        "r2 = [x + width for x in r1]\n",
        "r3 = [x + width for x in r2]\n",
        "# plot sensitivity, specificity, and auc\n",
        "fig, ax = plt.subplots(figsize=(8,6))\n",
        "bar1 = ax.bar(r1, sens_all, width, label='Sensitivity')\n",
        "bar2 = ax.bar(r2, spec_all, width, label='Specificity')\n",
        "bar3 = ax.bar(r3, auc_all, width, label='AUC')\n",
        "# Add some text for labels, title and custom x-axis tick labels, etc.\n",
        "ax.set_ylim([0,1.15])\n",
        "ax.set_ylabel('Scores',fontsize=14)\n",
        "#ax.set_title('Performance benchmark across ML models')\n",
        "ax.set_xticks(r2)\n",
        "ax.set_xticklabels(ml_names)\n",
        "ax.tick_params(axis='both', which='major', labelsize=12)\n",
        "ax.set_xlabel(\"Machine Learning Model\\n(a)\",fontsize=14)\n",
        "ax.legend(loc='lower left',ncol=3,bbox_to_anchor=(0.25,1),fontsize=12)\n",
        "autolabel(bar1)\n",
        "autolabel(bar2)\n",
        "autolabel(bar3)\n",
        "fig.tight_layout()\n",
        "fig.savefig(\"ml_benchmark_auc.pdf\", bbox_inches='tight')\n",
        "plt.show()\n",
        "\n",
        "# plot sensitivity, specificity, and auc\n",
        "fig, ax = plt.subplots(figsize=(8,6))\n",
        "bar1 = ax.bar(r1, prec_all, width, label='Precision')\n",
        "bar2 = ax.bar(r2, rec_all, width, label='Recall')\n",
        "bar3 = ax.bar(r3, f1_all, width, label='F1')\n",
        "# Add some text for labels, title and custom x-axis tick labels, etc.\n",
        "ax.set_ylim([0,1.13])\n",
        "ax.set_ylabel('Scores',fontsize=14)\n",
        "#ax.set_title('Performance benchmark across ML models')\n",
        "ax.set_xticks(r2)\n",
        "ax.set_xticklabels(ml_names)\n",
        "ax.tick_params(axis='both', which='major', labelsize=12)\n",
        "ax.set_xlabel(\"Machine Learning Model\\n(b)\",fontsize=14)\n",
        "ax.legend(loc='lower left',ncol=3,bbox_to_anchor=(0.25,1),fontsize=12)\n",
        "autolabel(bar1)\n",
        "autolabel(bar2)\n",
        "autolabel(bar3)\n",
        "fig.tight_layout()\n",
        "fig.savefig(\"ml_benchmark_f1.pdf\", bbox_inches='tight')\n",
        "plt.show()"
      ]
    },
    {
      "cell_type": "markdown",
      "metadata": {
        "id": "UJs6xpblTVS7"
      },
      "source": [
        "## Selecting Most Important Features\n",
        "\n",
        "To evaluate the most important features, we will use feature importance score which can be calculated using two different methods as follows:\n",
        "1. Tree based feature importance. This is calculated during the construction of the boosted decision trees within the model. The more an attribute is used to make key decisions with decision trees indicates higher relative importance. This can be access by using feature_importances_ attribute within the model.\n",
        "2. Permutation based feature importance. First, we compute the baseline performance of the original trained model (without permutation) using the testing set; Second, for each feature, we permute the data in that feature, compute and record the performance based on the permuted data; lastly, compute the feature importance as the difference between the baseline performance and the performance based on the permuted data."
      ]
    },
    {
      "cell_type": "code",
      "execution_count": null,
      "metadata": {
        "id": "F3weTtkMTVS7"
      },
      "outputs": [],
      "source": [
        "# feature importance from random forest\n",
        "feature_names = clean_data.columns[:-1].to_numpy()\n",
        "ranfor_perm_imp = permutation_importance(ranfor_model, X_test_std, y_test, n_repeats=10, random_state=42)\n",
        "ranfor_perm_sort_idx = ranfor_perm_imp.importances_mean.argsort()\n",
        "\n",
        "ranfor_tree_sort_idx = np.argsort(ranfor_model.feature_importances_)\n",
        "ranfor_indices = np.arange(0, len(ranfor_model.feature_importances_)) + 0.5\n",
        "\n",
        "fig, (ax1, ax2, ax3, ax4) = plt.subplots(1, 4, figsize=(16, 5))\n",
        "ax1.barh(ranfor_indices,ranfor_model.feature_importances_[ranfor_tree_sort_idx], height=0.7)\n",
        "ax1.tick_params(axis='both', which='major', labelsize=12)\n",
        "ax1.set_xlabel(\"Importance Score\\n(b)\",fontsize=14)\n",
        "ax1.set_ylabel(\"Feature Name\",fontsize=14)\n",
        "ax1.set_yticklabels(feature_names[ranfor_tree_sort_idx])\n",
        "ax1.set_yticks(ranfor_indices)\n",
        "ax1.set_ylim((0, len(ranfor_model.feature_importances_)))\n",
        "ax2.boxplot(ranfor_perm_imp.importances[ranfor_perm_sort_idx].T,vert=False,labels=feature_names[ranfor_perm_sort_idx])\n",
        "ax2.tick_params(axis='both', which='major', labelsize=12)\n",
        "ax2.set_xlabel(\"Importance Score\\n(b)\",fontsize=14)\n",
        "\n",
        "# feature importance from XGBoost\n",
        "xgb_perm_imp = permutation_importance(xgb_model, X_test_std, y_test, n_repeats=10, random_state=42)\n",
        "xgb_perm_sort_idx = xgb_perm_imp.importances_mean.argsort()\n",
        "\n",
        "xgb_tree_sort_idx = np.argsort(xgb_model.feature_importances_)\n",
        "xgb_indices = np.arange(0, len(xgb_model.feature_importances_)) + 0.5\n",
        "\n",
        "ax3.barh(xgb_indices,xgb_model.feature_importances_[xgb_tree_sort_idx], height=0.7)\n",
        "ax3.tick_params(axis='both', which='major', labelsize=12)\n",
        "ax3.set_xlabel(\"Importance Score\\n(c)\",fontsize=14)\n",
        "ax3.set_yticklabels(feature_names[xgb_tree_sort_idx])\n",
        "ax3.set_yticks(xgb_indices)\n",
        "ax3.set_ylim((0, len(xgb_model.feature_importances_)))\n",
        "ax4.boxplot(xgb_perm_imp.importances[xgb_perm_sort_idx].T,vert=False,labels=feature_names[xgb_perm_sort_idx])\n",
        "ax4.tick_params(axis='both', which='major', labelsize=12)\n",
        "ax4.set_xlabel(\"Importance Score\\n(d)\",fontsize=14)\n",
        "fig.tight_layout()\n",
        "fig.savefig(\"feature_importance.pdf\", bbox_inches='tight')\n",
        "plt.show()"
      ]
    },
    {
      "cell_type": "markdown",
      "metadata": {
        "id": "H7jOPVYYTVS7"
      },
      "source": [
        "## Summary"
      ]
    },
    {
      "cell_type": "markdown",
      "metadata": {
        "id": "jH_VbdhPTVS7"
      },
      "source": [
        "In summary, two highest stroke prediction performance were achieved by XGBoost and random forest; three most important features (in descending order) for stroke prediction were 'age', 'avg_glucose_level', and 'bmi'."
      ]
    }
  ],
  "metadata": {
    "colab": {
      "name": "Copy of Stroke Prediction and Analysis - Notebook.ipynb",
      "provenance": []
    },
    "kernelspec": {
      "display_name": "Python 3 (ipykernel)",
      "language": "python",
      "name": "python3"
    },
    "language_info": {
      "codemirror_mode": {
        "name": "ipython",
        "version": 3
      },
      "file_extension": ".py",
      "mimetype": "text/x-python",
      "name": "python",
      "nbconvert_exporter": "python",
      "pygments_lexer": "ipython3",
      "version": "3.9.7"
    }
  },
  "nbformat": 4,
  "nbformat_minor": 0
}